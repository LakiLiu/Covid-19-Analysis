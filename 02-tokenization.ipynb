{
 "cells": [
  {
   "cell_type": "markdown",
   "metadata": {},
   "source": [
    "# **Covid-19 Sentiment Analysis - Part II**\n",
    "This part contains the word tokenizaiton and cleaning process"
   ]
  },
  {
   "cell_type": "code",
   "execution_count": 1,
   "metadata": {},
   "outputs": [],
   "source": [
    "import pandas as pd\n",
    "import thulac\n",
    "import seaborn as sns\n",
    "import matplotlib.pyplot as plt\n",
    "\n",
    "myfile = './train_df.csv'\n",
    "with open(myfile,'r', errors = 'ignore') as f:\n",
    "    raw_data = pd.read_csv(f,)\n",
    "    \n",
    "# raw_data = raw_data.rename(columns={\"微博id\": \"ID\", \"微博发布时间\": \"time\", '发布人账号':'user','微博中文内容':'content',\n",
    "#                         '微博图片':'pic', '微博视频':'video','情感倾向':'sentiment'})"
   ]
  },
  {
   "cell_type": "code",
   "execution_count": 2,
   "metadata": {},
   "outputs": [],
   "source": [
    "df = raw_data.copy()"
   ]
  },
  {
   "cell_type": "code",
   "execution_count": 3,
   "metadata": {},
   "outputs": [
    {
     "data": {
      "text/plain": [
       "(99907, 6)"
      ]
     },
     "execution_count": 3,
     "metadata": {},
     "output_type": "execute_result"
    }
   ],
   "source": [
    "df.shape"
   ]
  },
  {
   "cell_type": "markdown",
   "metadata": {},
   "source": [
    "## 1. Constraint content length \n",
    "According to density plot, we only keep contents <= 150 words"
   ]
  },
  {
   "cell_type": "code",
   "execution_count": 4,
   "metadata": {},
   "outputs": [
    {
     "data": {
      "image/png": "[encoded data removed]",
      "text/plain": [
       "<Figure size 432x288 with 1 Axes>"
      ]
     },
     "metadata": {
      "needs_background": "light"
     },
     "output_type": "display_data"
    }
   ],
   "source": [
    "df['weibo_len'] = df['content'].astype(str).apply(len)\n",
    "sns.kdeplot(df['weibo_len'])\n",
    "plt.title('weibo_len')\n",
    "plt.show()"
   ]
  },
  {
   "cell_type": "code",
   "execution_count": 5,
   "metadata": {},
   "outputs": [
    {
     "data": {
      "text/plain": [
       "(93361, 7)"
      ]
     },
     "execution_count": 5,
     "metadata": {},
     "output_type": "execute_result"
    }
   ],
   "source": [
    "df = df[df.weibo_len<=150]\n",
    "df.shape"
   ]
  },
  {
   "cell_type": "markdown",
   "metadata": {},
   "source": [
    "## 3.Remove symbols and non-Chinese"
   ]
  },
  {
   "cell_type": "code",
   "execution_count": 6,
   "metadata": {},
   "outputs": [
    {
     "data": {
      "text/plain": [
       "'写在年末冬初孩子流感的第五天，我们仍然没有忘记热情拥抱这2020年的第一天。带着一丝迷信，早晨给孩子穿上红色的羽绒服羽绒裤，祈祷新的一年，孩子们身体康健。仍然会有一丝焦虑，焦虑我的孩子为什么会过早的懂事，从两岁多开始关注我的情绪，会深沉地说：妈妈，你终于笑了！这句话像刀子一样扎入我?展开全文c'"
      ]
     },
     "execution_count": 6,
     "metadata": {},
     "output_type": "execute_result"
    }
   ],
   "source": [
    "df.content[0]"
   ]
  },
  {
   "cell_type": "code",
   "execution_count": 7,
   "metadata": {},
   "outputs": [],
   "source": [
    "import regex as re\n",
    "# remove symbol, number and letter\n",
    "symbols = \"[a-zA-Z0-9\\s+\\.\\!\\/_,$%^*()??;；：【】+\\\"\\'\\[\\]\\\\]+|[+——！，;:。？《》、~@#￥%……&*（）“”.=-]+\"\n",
    "df['content'] = df['content'].astype(str).apply(lambda x : re.sub(symbols, '', x))\n",
    "\n",
    "#pre-cleaning, deleting or filtering unnecessary words like 'show more'\n",
    "df['content'] = df['content'].astype(str).apply(lambda x : x.replace(\"展开全文\", \"\"))\n",
    "\n",
    "#remove non-chinese\n",
    "pattern = re.compile(r'[^\\u4e00-\\u9fa5]')\n",
    "df['content'] = df['content'].astype(str).apply(lambda x : re.sub(pattern,'',x))"
   ]
  },
  {
   "cell_type": "code",
   "execution_count": 8,
   "metadata": {},
   "outputs": [
    {
     "data": {
      "text/html": [
       "<div>\n",
       "<style scoped>\n",
       "    .dataframe tbody tr th:only-of-type {\n",
       "        vertical-align: middle;\n",
       "    }\n",
       "\n",
       "    .dataframe tbody tr th {\n",
       "        vertical-align: top;\n",
       "    }\n",
       "\n",
       "    .dataframe thead th {\n",
       "        text-align: right;\n",
       "    }\n",
       "</style>\n",
       "<table border=\"1\" class=\"dataframe\">\n",
       "  <thead>\n",
       "    <tr style=\"text-align: right;\">\n",
       "      <th></th>\n",
       "      <th>ID</th>\n",
       "      <th>time</th>\n",
       "      <th>content</th>\n",
       "      <th>pic</th>\n",
       "      <th>video</th>\n",
       "      <th>sentiment</th>\n",
       "      <th>weibo_len</th>\n",
       "    </tr>\n",
       "  </thead>\n",
       "  <tbody>\n",
       "    <tr>\n",
       "      <th>0</th>\n",
       "      <td>4456072029125500</td>\n",
       "      <td>2020-01-01 23:50:00</td>\n",
       "      <td>写在年末冬初孩子流感的第五天我们仍然没有忘记热情拥抱这年的第一天带着一丝迷信早晨给孩子穿上红...</td>\n",
       "      <td>1</td>\n",
       "      <td>0</td>\n",
       "      <td>0</td>\n",
       "      <td>147</td>\n",
       "    </tr>\n",
       "    <tr>\n",
       "      <th>1</th>\n",
       "      <td>4456074167480980</td>\n",
       "      <td>2020-01-01 23:58:00</td>\n",
       "      <td>开年大模型累到以为自己发烧了腰疼膝盖疼腿疼胳膊疼脖子疼的</td>\n",
       "      <td>0</td>\n",
       "      <td>0</td>\n",
       "      <td>-1</td>\n",
       "      <td>47</td>\n",
       "    </tr>\n",
       "    <tr>\n",
       "      <th>2</th>\n",
       "      <td>4456054253264520</td>\n",
       "      <td>2020-01-01 22:39:00</td>\n",
       "      <td>邱晨这就是我爹爹发烧快好毕竟美好的假期拿来养病不太好假期还是要好好享受快乐爹新年快乐发烧好了...</td>\n",
       "      <td>1</td>\n",
       "      <td>0</td>\n",
       "      <td>1</td>\n",
       "      <td>99</td>\n",
       "    </tr>\n",
       "    <tr>\n",
       "      <th>3</th>\n",
       "      <td>4456061509126470</td>\n",
       "      <td>2020-01-01 23:08:00</td>\n",
       "      <td>新年的第一天感冒又发烧的也太衰了但是我要想着明天一定会好的</td>\n",
       "      <td>1</td>\n",
       "      <td>0</td>\n",
       "      <td>1</td>\n",
       "      <td>30</td>\n",
       "    </tr>\n",
       "    <tr>\n",
       "      <th>4</th>\n",
       "      <td>4455979322528190</td>\n",
       "      <td>2020-01-01 17:42:00</td>\n",
       "      <td>问我们意念里有坏的想法了天神就会给记下来那如果有好的想法也会被记下来吗答那当然了有坏的想法天...</td>\n",
       "      <td>0</td>\n",
       "      <td>0</td>\n",
       "      <td>1</td>\n",
       "      <td>145</td>\n",
       "    </tr>\n",
       "  </tbody>\n",
       "</table>\n",
       "</div>"
      ],
      "text/plain": [
       "                 ID                 time  \\\n",
       "0  4456072029125500  2020-01-01 23:50:00   \n",
       "1  4456074167480980  2020-01-01 23:58:00   \n",
       "2  4456054253264520  2020-01-01 22:39:00   \n",
       "3  4456061509126470  2020-01-01 23:08:00   \n",
       "4  4455979322528190  2020-01-01 17:42:00   \n",
       "\n",
       "                                             content  pic  video  sentiment  \\\n",
       "0  写在年末冬初孩子流感的第五天我们仍然没有忘记热情拥抱这年的第一天带着一丝迷信早晨给孩子穿上红...    1      0          0   \n",
       "1                       开年大模型累到以为自己发烧了腰疼膝盖疼腿疼胳膊疼脖子疼的    0      0         -1   \n",
       "2  邱晨这就是我爹爹发烧快好毕竟美好的假期拿来养病不太好假期还是要好好享受快乐爹新年快乐发烧好了...    1      0          1   \n",
       "3                      新年的第一天感冒又发烧的也太衰了但是我要想着明天一定会好的    1      0          1   \n",
       "4  问我们意念里有坏的想法了天神就会给记下来那如果有好的想法也会被记下来吗答那当然了有坏的想法天...    0      0          1   \n",
       "\n",
       "   weibo_len  \n",
       "0        147  \n",
       "1         47  \n",
       "2         99  \n",
       "3         30  \n",
       "4        145  "
      ]
     },
     "execution_count": 8,
     "metadata": {},
     "output_type": "execute_result"
    }
   ],
   "source": [
    "df.head()"
   ]
  },
  {
   "cell_type": "code",
   "execution_count": 9,
   "metadata": {},
   "outputs": [
    {
     "data": {
      "text/plain": [
       "'写在年末冬初孩子流感的第五天我们仍然没有忘记热情拥抱这年的第一天带着一丝迷信早晨给孩子穿上红色的羽绒服羽绒裤祈祷新的一年孩子们身体康健仍然会有一丝焦虑焦虑我的孩子为什么会过早的懂事从两岁多开始关注我的情绪会深沉地说妈妈你终于笑了这句话像刀子一样扎入我'"
      ]
     },
     "execution_count": 9,
     "metadata": {},
     "output_type": "execute_result"
    }
   ],
   "source": [
    "df.content[0]"
   ]
  },
  {
   "cell_type": "markdown",
   "metadata": {},
   "source": [
    "## 2. Word Tokenization"
   ]
  },
  {
   "cell_type": "code",
   "execution_count": 10,
   "metadata": {},
   "outputs": [
    {
     "name": "stdout",
     "output_type": "stream",
     "text": [
      "Model loaded succeed\n"
     ]
    },
    {
     "data": {
      "text/html": [
       "<div>\n",
       "<style scoped>\n",
       "    .dataframe tbody tr th:only-of-type {\n",
       "        vertical-align: middle;\n",
       "    }\n",
       "\n",
       "    .dataframe tbody tr th {\n",
       "        vertical-align: top;\n",
       "    }\n",
       "\n",
       "    .dataframe thead th {\n",
       "        text-align: right;\n",
       "    }\n",
       "</style>\n",
       "<table border=\"1\" class=\"dataframe\">\n",
       "  <thead>\n",
       "    <tr style=\"text-align: right;\">\n",
       "      <th></th>\n",
       "      <th>ID</th>\n",
       "      <th>time</th>\n",
       "      <th>content</th>\n",
       "      <th>pic</th>\n",
       "      <th>video</th>\n",
       "      <th>sentiment</th>\n",
       "      <th>weibo_len</th>\n",
       "    </tr>\n",
       "  </thead>\n",
       "  <tbody>\n",
       "    <tr>\n",
       "      <th>0</th>\n",
       "      <td>4456072029125500</td>\n",
       "      <td>2020-01-01 23:50:00</td>\n",
       "      <td>写 在 年末 冬初 孩子 流感 的 第五 天 我们 仍然 没有 忘记 热情 拥抱 这 年 的...</td>\n",
       "      <td>1</td>\n",
       "      <td>0</td>\n",
       "      <td>0</td>\n",
       "      <td>147</td>\n",
       "    </tr>\n",
       "    <tr>\n",
       "      <th>1</th>\n",
       "      <td>4456074167480980</td>\n",
       "      <td>2020-01-01 23:58:00</td>\n",
       "      <td>开 年 大模型 累 到 以为 自己 发烧 了 腰 疼 膝盖 疼 腿 疼 胳膊 疼 脖子 疼 的</td>\n",
       "      <td>0</td>\n",
       "      <td>0</td>\n",
       "      <td>-1</td>\n",
       "      <td>47</td>\n",
       "    </tr>\n",
       "    <tr>\n",
       "      <th>2</th>\n",
       "      <td>4456054253264520</td>\n",
       "      <td>2020-01-01 22:39:00</td>\n",
       "      <td>邱晨 这 就 是 我 爹 爹 发烧 快 好 毕竟 美好 的 假期 拿 来 养 病 不 太 好...</td>\n",
       "      <td>1</td>\n",
       "      <td>0</td>\n",
       "      <td>1</td>\n",
       "      <td>99</td>\n",
       "    </tr>\n",
       "    <tr>\n",
       "      <th>3</th>\n",
       "      <td>4456061509126470</td>\n",
       "      <td>2020-01-01 23:08:00</td>\n",
       "      <td>新年 的 第一 天 感冒 又 发烧 的 也 太 衰 了 但是 我 要 想 着 明天 一定 会...</td>\n",
       "      <td>1</td>\n",
       "      <td>0</td>\n",
       "      <td>1</td>\n",
       "      <td>30</td>\n",
       "    </tr>\n",
       "    <tr>\n",
       "      <th>4</th>\n",
       "      <td>4455979322528190</td>\n",
       "      <td>2020-01-01 17:42:00</td>\n",
       "      <td>问 我们 意念 里 有 坏 的 想法 了 天神 就 会 给 记 下 来 那 如果 有 好 的...</td>\n",
       "      <td>0</td>\n",
       "      <td>0</td>\n",
       "      <td>1</td>\n",
       "      <td>145</td>\n",
       "    </tr>\n",
       "    <tr>\n",
       "      <th>5</th>\n",
       "      <td>4455960703574270</td>\n",
       "      <td>2020-01-01 16:28:00</td>\n",
       "      <td>发高烧 反反复复 眼睛 都 快 睁 不 开 了 今天 室友 带 我 去 看 还 在 发烧 中...</td>\n",
       "      <td>1</td>\n",
       "      <td>0</td>\n",
       "      <td>-1</td>\n",
       "      <td>139</td>\n",
       "    </tr>\n",
       "    <tr>\n",
       "      <th>6</th>\n",
       "      <td>4456044141311370</td>\n",
       "      <td>2020-01-01 21:59:00</td>\n",
       "      <td>明天 考试 今天 发烧 跨年 给 我 跨 坏 了 兰州 兰州 交通 大学</td>\n",
       "      <td>0</td>\n",
       "      <td>0</td>\n",
       "      <td>-1</td>\n",
       "      <td>28</td>\n",
       "    </tr>\n",
       "    <tr>\n",
       "      <th>7</th>\n",
       "      <td>4456072930597380</td>\n",
       "      <td>2020-01-01 23:53:00</td>\n",
       "      <td>元旦 快乐 枇杷 手法 小结 每个 娃 都 是 有 故事 的 娃 每个 大人 也 是 有 故...</td>\n",
       "      <td>1</td>\n",
       "      <td>0</td>\n",
       "      <td>0</td>\n",
       "      <td>143</td>\n",
       "    </tr>\n",
       "    <tr>\n",
       "      <th>8</th>\n",
       "      <td>4456059546766320</td>\n",
       "      <td>2020-01-01 23:00:00</td>\n",
       "      <td>我 真 的 服 了 昨天 去 和 她 说 自己 不 舒服 描述 了 症状 她 说 啊 你 这...</td>\n",
       "      <td>0</td>\n",
       "      <td>0</td>\n",
       "      <td>-1</td>\n",
       "      <td>144</td>\n",
       "    </tr>\n",
       "    <tr>\n",
       "      <th>9</th>\n",
       "      <td>4456064361730200</td>\n",
       "      <td>2020-01-01 23:19:00</td>\n",
       "      <td>新年 第一 天 为 自己 鼓掌 发烧 了 也 要 来 看 线 下 演出 因为 热爱 所以 才...</td>\n",
       "      <td>1</td>\n",
       "      <td>0</td>\n",
       "      <td>1</td>\n",
       "      <td>127</td>\n",
       "    </tr>\n",
       "  </tbody>\n",
       "</table>\n",
       "</div>"
      ],
      "text/plain": [
       "                 ID                 time  \\\n",
       "0  4456072029125500  2020-01-01 23:50:00   \n",
       "1  4456074167480980  2020-01-01 23:58:00   \n",
       "2  4456054253264520  2020-01-01 22:39:00   \n",
       "3  4456061509126470  2020-01-01 23:08:00   \n",
       "4  4455979322528190  2020-01-01 17:42:00   \n",
       "5  4455960703574270  2020-01-01 16:28:00   \n",
       "6  4456044141311370  2020-01-01 21:59:00   \n",
       "7  4456072930597380  2020-01-01 23:53:00   \n",
       "8  4456059546766320  2020-01-01 23:00:00   \n",
       "9  4456064361730200  2020-01-01 23:19:00   \n",
       "\n",
       "                                             content  pic  video  sentiment  \\\n",
       "0  写 在 年末 冬初 孩子 流感 的 第五 天 我们 仍然 没有 忘记 热情 拥抱 这 年 的...    1      0          0   \n",
       "1    开 年 大模型 累 到 以为 自己 发烧 了 腰 疼 膝盖 疼 腿 疼 胳膊 疼 脖子 疼 的    0      0         -1   \n",
       "2  邱晨 这 就 是 我 爹 爹 发烧 快 好 毕竟 美好 的 假期 拿 来 养 病 不 太 好...    1      0          1   \n",
       "3  新年 的 第一 天 感冒 又 发烧 的 也 太 衰 了 但是 我 要 想 着 明天 一定 会...    1      0          1   \n",
       "4  问 我们 意念 里 有 坏 的 想法 了 天神 就 会 给 记 下 来 那 如果 有 好 的...    0      0          1   \n",
       "5  发高烧 反反复复 眼睛 都 快 睁 不 开 了 今天 室友 带 我 去 看 还 在 发烧 中...    1      0         -1   \n",
       "6               明天 考试 今天 发烧 跨年 给 我 跨 坏 了 兰州 兰州 交通 大学    0      0         -1   \n",
       "7  元旦 快乐 枇杷 手法 小结 每个 娃 都 是 有 故事 的 娃 每个 大人 也 是 有 故...    1      0          0   \n",
       "8  我 真 的 服 了 昨天 去 和 她 说 自己 不 舒服 描述 了 症状 她 说 啊 你 这...    0      0         -1   \n",
       "9  新年 第一 天 为 自己 鼓掌 发烧 了 也 要 来 看 线 下 演出 因为 热爱 所以 才...    1      0          1   \n",
       "\n",
       "   weibo_len  \n",
       "0        147  \n",
       "1         47  \n",
       "2         99  \n",
       "3         30  \n",
       "4        145  \n",
       "5        139  \n",
       "6         28  \n",
       "7        143  \n",
       "8        144  \n",
       "9        127  "
      ]
     },
     "execution_count": 10,
     "metadata": {},
     "output_type": "execute_result"
    }
   ],
   "source": [
    "# tokenize by http://thulac.thunlp.org/\n",
    "\n",
    "thul = thulac.thulac(seg_only=True)  # by default\n",
    "\n",
    "df['content'] = df['content'].astype(str).apply(lambda x : thul.cut(x,text = True))\n",
    "#text = thu1.cut(df0.content[0], text=True)  #进行一句话分词\n",
    "#print(text)\n",
    "df.head(10)"
   ]
  },
  {
   "cell_type": "markdown",
   "metadata": {},
   "source": [
    "## 4. Remove meaningfulless words\n",
    "Import word list and filter word lists during the count vectorizer part\n",
    "e.g. stopwords, adverbs..."
   ]
  },
  {
   "cell_type": "code",
   "execution_count": 11,
   "metadata": {},
   "outputs": [
    {
     "data": {
      "text/plain": [
       "(1893, 1)"
      ]
     },
     "execution_count": 11,
     "metadata": {},
     "output_type": "execute_result"
    }
   ],
   "source": [
    "import csv\n",
    "myfile = './mystopwords.csv'\n",
    "\n",
    "stopwords = pd.read_csv(myfile, delimiter='\\n', header=None, encoding='utf-8', quoting=csv.QUOTE_NONE)\n",
    "stopwords.shape"
   ]
  },
  {
   "cell_type": "code",
   "execution_count": 12,
   "metadata": {
    "collapsed": true,
    "jupyter": {
     "outputs_hidden": true
    }
   },
   "outputs": [
    {
     "name": "stderr",
     "output_type": "stream",
     "text": [
      "/anaconda3/lib/python3.7/site-packages/sklearn/feature_extraction/text.py:300: UserWarning: Your stop_words may be inconsistent with your preprocessing. Tokenizing the stop words generated tokens ['lex', '①①', '①②', '①③', '①④', '①⑤', '①⑥', '①⑦', '①⑧', '①⑨', '①ａ', '①ｂ', '①ｃ', '①ｄ', '①ｅ', '①ｆ', '①ｇ', '①ｈ', '①ｉ', '①ｏ', '②①', '②②', '②③', '②④', '②⑤', '②⑥', '②⑦', '②⑧', '②⑩', '②ａ', '②ｂ', '②ｄ', '②ｅ', '②ｆ', '②ｇ', '②ｈ', '②ｉ', '②ｊ', '③①', '③⑩', '③ａ', '③ｂ', '③ｃ', '③ｄ', '③ｅ', '③ｆ', '③ｇ', '③ｈ', '④ａ', '④ｂ', '④ｃ', '④ｄ', '④ｅ', '⑤ａ', '⑤ｂ', '⑤ｄ', '⑤ｅ', '⑤ｆ', '１２', 'ｌｉ', 'ｚｘｆｉｔｌ'] not in stop_words.\n",
      "  'stop_words.' % sorted(inconsistent))\n"
     ]
    },
    {
     "data": {
      "text/plain": [
       "{'酒精': 161,\n",
       " '网页链': 150,\n",
       " '社区': 141,\n",
       " '口罩': 53,\n",
       " '医用': 41,\n",
       " '工作': 69,\n",
       " '疫情': 129,\n",
       " '消毒': 122,\n",
       " '小时': 68,\n",
       " '病例': 133,\n",
       " '确诊': 139,\n",
       " '第一': 145,\n",
       " '患者': 79,\n",
       " '政府': 99,\n",
       " '重症': 162,\n",
       " '肺炎': 152,\n",
       " '疾病': 131,\n",
       " '武汉': 116,\n",
       " '市场': 70,\n",
       " '感冒': 81,\n",
       " '病毒': 134,\n",
       " '研究': 138,\n",
       " '上海': 1,\n",
       " '预防': 171,\n",
       " '上班': 2,\n",
       " '老师': 151,\n",
       " '视频': 154,\n",
       " '微博': 76,\n",
       " '隔离': 169,\n",
       " '中国': 6,\n",
       " '野味': 163,\n",
       " '春节': 109,\n",
       " '希望': 71,\n",
       " '晚上': 110,\n",
       " '出院': 30,\n",
       " '影响': 75,\n",
       " '感染': 82,\n",
       " '加油': 34,\n",
       " '致敬': 153,\n",
       " '前线': 32,\n",
       " '医护': 39,\n",
       " '人员': 11,\n",
       " '感谢': 84,\n",
       " '抗击': 89,\n",
       " '新型': 103,\n",
       " '第一线': 146,\n",
       " '湖北': 123,\n",
       " '社会': 140,\n",
       " '冠状': 28,\n",
       " '动物': 35,\n",
       " '发生': 52,\n",
       " '出门': 29,\n",
       " '今日': 12,\n",
       " '发现': 51,\n",
       " '新增': 104,\n",
       " '消息': 121,\n",
       " '评论': 156,\n",
       " '发热': 50,\n",
       " '困难': 57,\n",
       " '控制': 95,\n",
       " '建议': 73,\n",
       " '医院': 44,\n",
       " '支持': 97,\n",
       " '基层': 60,\n",
       " '防疫': 167,\n",
       " '防控': 166,\n",
       " '公益': 26,\n",
       " '发布': 48,\n",
       " '增强': 61,\n",
       " '抵抗力': 92,\n",
       " '转发': 158,\n",
       " '特别': 125,\n",
       " '领导': 172,\n",
       " '期间': 114,\n",
       " '咳嗽': 55,\n",
       " '生活': 127,\n",
       " '全国': 22,\n",
       " '新冠肺炎': 102,\n",
       " '月日': 112,\n",
       " '医务': 38,\n",
       " '新闻': 105,\n",
       " '喜欢': 56,\n",
       " '防护': 165,\n",
       " '公司': 25,\n",
       " '身体': 157,\n",
       " '医生': 40,\n",
       " '措施': 96,\n",
       " '平安': 72,\n",
       " '健康': 21,\n",
       " '辛苦': 159,\n",
       " '钟南山': 164,\n",
       " '原因': 47,\n",
       " '地方': 58,\n",
       " '朋友': 113,\n",
       " '情况': 80,\n",
       " '抗疫': 90,\n",
       " '一线': 0,\n",
       " '奋战': 64,\n",
       " '公共': 24,\n",
       " '卫生': 46,\n",
       " '传染病': 17,\n",
       " '传播': 15,\n",
       " '传人': 14,\n",
       " '手机': 87,\n",
       " '院士': 168,\n",
       " '捐赠': 93,\n",
       " '卫健委': 45,\n",
       " '发烧': 49,\n",
       " '症状': 135,\n",
       " '检测': 115,\n",
       " '治疗': 119,\n",
       " '企业': 13,\n",
       " '复工': 62,\n",
       " '护士': 91,\n",
       " '治愈': 118,\n",
       " '小区': 67,\n",
       " '物资': 124,\n",
       " '志愿者': 77,\n",
       " '祈福': 142,\n",
       " '直播': 136,\n",
       " '方案': 106,\n",
       " '分享': 31,\n",
       " '医疗': 42,\n",
       " '战疫': 85,\n",
       " '关注': 27,\n",
       " '城市': 59,\n",
       " '感觉': 83,\n",
       " '武汉市': 117,\n",
       " '紧急': 147,\n",
       " '世界': 4,\n",
       " '接触': 94,\n",
       " '疑似': 128,\n",
       " '孩子': 66,\n",
       " '快乐': 78,\n",
       " '组织': 148,\n",
       " '时间': 107,\n",
       " '活动': 120,\n",
       " '为什': 9,\n",
       " '通知': 160,\n",
       " '好好': 65,\n",
       " '戴口罩': 86,\n",
       " '传染': 16,\n",
       " '记者': 155,\n",
       " '临床': 8,\n",
       " '保护': 19,\n",
       " '体温': 18,\n",
       " '病人': 132,\n",
       " '中心': 7,\n",
       " '新冠': 101,\n",
       " '中医药': 5,\n",
       " '医疗队': 43,\n",
       " '大学': 63,\n",
       " '相关': 137,\n",
       " '力量': 33,\n",
       " '呼吸': 54,\n",
       " '明天': 108,\n",
       " '全球': 23,\n",
       " '科学': 143,\n",
       " '疫苗': 130,\n",
       " '空气': 144,\n",
       " '开学': 74,\n",
       " '页链': 170,\n",
       " '努力': 36,\n",
       " '结束': 149,\n",
       " '下午': 3,\n",
       " '北京': 37,\n",
       " '信息': 20,\n",
       " '最新': 111,\n",
       " '打卡': 88,\n",
       " '救治': 100,\n",
       " '事件': 10,\n",
       " '支援': 98,\n",
       " '生命': 126}"
      ]
     },
     "execution_count": 12,
     "metadata": {},
     "output_type": "execute_result"
    }
   ],
   "source": [
    "from sklearn.model_selection import train_test_split\n",
    "from sklearn.feature_extraction.text import TfidfVectorizer\n",
    "\n",
    "\n",
    "X_train_pre, X_test_pre, y_train, y_test = train_test_split(df['content'].astype(str), df['sentiment'].tolist(), test_size=0.2, random_state=0)\n",
    "\n",
    "tfidf = TfidfVectorizer(ngram_range = (1,1), stop_words = list(stopwords.values.reshape(1893,)), analyzer = 'word', min_df=0.01)\n",
    "tfidffit = tfidf.fit(X_train_pre)\n",
    "X_train = tfidffit.transform(X_train_pre)\n",
    "tfidf.vocabulary_"
   ]
  },
  {
   "cell_type": "code",
   "execution_count": 13,
   "metadata": {},
   "outputs": [
    {
     "data": {
      "text/plain": [
       "<74688x173 sparse matrix of type '<class 'numpy.float64'>'\n",
       "\twith 321189 stored elements in Compressed Sparse Row format>"
      ]
     },
     "execution_count": 13,
     "metadata": {},
     "output_type": "execute_result"
    }
   ],
   "source": [
    "X_train"
   ]
  }
 ],
 "metadata": {
  "kernelspec": {
   "display_name": "Python 3",
   "language": "python",
   "name": "python3"
  },
  "language_info": {
   "codemirror_mode": {
    "name": "ipython",
    "version": 3
   },
   "file_extension": ".py",
   "mimetype": "text/x-python",
   "name": "python",
   "nbconvert_exporter": "python",
   "pygments_lexer": "ipython3",
   "version": "3.7.6"
  }
 },
 "nbformat": 4,
 "nbformat_minor": 4
}
